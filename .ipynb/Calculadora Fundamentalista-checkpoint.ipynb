{
 "cells": [
  {
   "cell_type": "code",
   "execution_count": 1,
   "metadata": {
    "scrolled": true
   },
   "outputs": [
    {
     "name": "stdout",
     "output_type": "stream",
     "text": [
      "Inserir nome do ativo: TUPY3\n"
     ]
    }
   ],
   "source": [
    "nomedoativo = str(input(\"Inserir nome do ativo: \"))"
   ]
  },
  {
   "cell_type": "code",
   "execution_count": 28,
   "metadata": {},
   "outputs": [
    {
     "name": "stdout",
     "output_type": "stream",
     "text": [
      "Quantidade de anos que deseja analisar: 3\n",
      "Inserir ano da primeira analise (exemplo: 2014): 2014\n"
     ]
    }
   ],
   "source": [
    "analiseanos = int(input(\"Quantidade de anos que deseja analisar: \"))\n",
    "anoinicio = int(input(\"Inserir ano da primeira analise (exemplo: 2014): \"))\n",
    "ano = anoinicio\n",
    "analiseinicio = 1\n",
    "rl = []\n",
    "c = []\n",
    "ll = []\n",
    "db = []"
   ]
  },
  {
   "cell_type": "code",
   "execution_count": 29,
   "metadata": {},
   "outputs": [
    {
     "name": "stdout",
     "output_type": "stream",
     "text": [
      "\n",
      "Inserir valor da Receita Líquida, no ano de 2014, em milhões: 23\n",
      "Inserir valor dos Custos, no ano de 2014, em milhões: 32\n",
      "Inserir valor do Lucro Líquido, no ano de 2014, em milhões: 12\n",
      "Inserir valor da Dívida Bruta, no ano de 2014, em milhões: 3\n",
      "\n",
      "Inserir valor da Receita Líquida, no ano de 2015, em milhões: 21\n",
      "Inserir valor dos Custos, no ano de 2015, em milhões: 23\n",
      "Inserir valor do Lucro Líquido, no ano de 2015, em milhões: 12\n",
      "Inserir valor da Dívida Bruta, no ano de 2015, em milhões: 4\n",
      "\n",
      "Inserir valor da Receita Líquida, no ano de 2016, em milhões: 2\n",
      "Inserir valor dos Custos, no ano de 2016, em milhões: 12\n",
      "Inserir valor do Lucro Líquido, no ano de 2016, em milhões: 3\n",
      "Inserir valor da Dívida Bruta, no ano de 2016, em milhões: 34\n"
     ]
    }
   ],
   "source": [
    "while analiseinicio <= analiseanos:\n",
    "    rl_ano = ano\n",
    "    rl_valor = float(input(\"\\nInserir valor da Receita Líquida, no ano de {}, em milhões: \".format(ano)))\n",
    "    c_ano = ano\n",
    "    c_valor = float(input(\"Inserir valor dos Custos, no ano de {}, em milhões: \".format(ano)))\n",
    "    ll_ano = ano\n",
    "    ll_valor = float(input(\"Inserir valor do Lucro Líquido, no ano de {}, em milhões: \".format(ano)))\n",
    "    db_ano = ano\n",
    "    db_valor = float(input(\"Inserir valor da Dívida Bruta, no ano de {}, em milhões: \".format(ano)))\n",
    "    rl.append ([rl_ano,rl_valor])\n",
    "    c.append ([c_ano,c_valor])\n",
    "    ll.append ([ll_ano,ll_valor])\n",
    "    db.append ([db_ano,db_valor])\n",
    "    analiseinicio += 1\n",
    "    ano += 1\n"
   ]
  },
  {
   "cell_type": "code",
   "execution_count": 30,
   "metadata": {},
   "outputs": [
    {
     "name": "stdout",
     "output_type": "stream",
     "text": [
      "[[2014, 23.0], [2016, 22.0], [2018, 4.0]]\n"
     ]
    }
   ],
   "source": [
    "print (rl)"
   ]
  },
  {
   "cell_type": "code",
   "execution_count": 4,
   "metadata": {},
   "outputs": [
    {
     "name": "stdout",
     "output_type": "stream",
     "text": [
      "2014\n"
     ]
    }
   ],
   "source": [
    "ano = anoinicio\n",
    "print (ano)"
   ]
  },
  {
   "cell_type": "code",
   "execution_count": 5,
   "metadata": {},
   "outputs": [
    {
     "name": "stdout",
     "output_type": "stream",
     "text": [
      "2014\n",
      "2019\n"
     ]
    }
   ],
   "source": [
    "rl.sort(reverse=True)\n",
    "anofinal = rl [0][0]\n",
    "rl.sort()\n",
    "print (anoinicio)\n",
    "print (anofinal)"
   ]
  },
  {
   "cell_type": "code",
   "execution_count": 6,
   "metadata": {},
   "outputs": [
    {
     "name": "stdout",
     "output_type": "stream",
     "text": [
      "0\n"
     ]
    }
   ],
   "source": [
    "contagem = 0\n",
    "cresc_ano = []\n",
    "print (contagem)"
   ]
  },
  {
   "cell_type": "code",
   "execution_count": 7,
   "metadata": {},
   "outputs": [
    {
     "name": "stdout",
     "output_type": "stream",
     "text": [
      "\n",
      "Analisar o crescimento, ou não, da empresa de acordo com a relação entre Receita Líquida e Custos.\n",
      "\n",
      "Quando o resultado der POSITIVO, quer dizer que a empresa obteve melhores resultados na relação entre Receita Líquida e Custos, seja: \n",
      "1. Aumentando mais a Receita Líquida do que os Custos;\n",
      "Ou até mesmo 2. A queda da Receita Líquida foi menor do que a dos Custos;\n",
      "E na melhor das hipóteses, 3. Aumento da Receita Líquida e queda dos Custos.\n",
      "\n",
      "Quando NEGATIVO, quer dizer o contrário, então: \n",
      "1. Custos aumetaram mais do que a Receita Líquida;\n",
      "2. A queda da Receita Líquida foi maior que a dos Custos;\n",
      "No pior cenário, 3. Houve aumento dos Custos e diminuição da Receita Líquida.\n"
     ]
    }
   ],
   "source": [
    "print (\"\\nAnalisar o crescimento, ou não, da empresa de acordo com a relação entre Receita Líquida e Custos.\")\n",
    "print (\"\\nQuando o resultado der POSITIVO, quer dizer que a empresa obteve melhores resultados na relação entre Receita Líquida e Custos, seja: \")\n",
    "print (\"1. Aumentando mais a Receita Líquida do que os Custos;\")\n",
    "print (\"Ou até mesmo 2. A queda da Receita Líquida foi menor do que a dos Custos;\")\n",
    "print (\"E na melhor das hipóteses, 3. Aumento da Receita Líquida e queda dos Custos.\")\n",
    "print (\"\\nQuando NEGATIVO, quer dizer o contrário, então: \")\n",
    "print (\"1. Custos aumetaram mais do que a Receita Líquida;\")\n",
    "print (\"2. A queda da Receita Líquida foi maior que a dos Custos;\")\n",
    "print (\"No pior cenário, 3. Houve aumento dos Custos e diminuição da Receita Líquida.\")"
   ]
  },
  {
   "cell_type": "code",
   "execution_count": 8,
   "metadata": {},
   "outputs": [
    {
     "name": "stdout",
     "output_type": "stream",
     "text": [
      "\n",
      "No período 2014/2015, segue considerações: \n",
      "Crescimento da Receita Líquida foi de 312.34 milhões\n",
      "Crescimento de Custo foi de 229.05 milhões\n",
      "Relação do crescimento da empresa, com base na Receita Líquida e nos Custos foi de: 83.29 milhões\n",
      "\n",
      "No período 2015/2016, segue considerações: \n",
      "Crescimento da Receita Líquida foi de -171.69 milhões\n",
      "Crescimento de Custo foi de 13.65 milhões\n",
      "Relação do crescimento da empresa, com base na Receita Líquida e nos Custos foi de: -185.34 milhões\n",
      "\n",
      "No período 2016/2017, segue considerações: \n",
      "Crescimento da Receita Líquida foi de 450.84 milhões\n",
      "Crescimento de Custo foi de 309.46 milhões\n",
      "Relação do crescimento da empresa, com base na Receita Líquida e nos Custos foi de: 141.38 milhões\n",
      "\n",
      "No período 2017/2018, segue considerações: \n",
      "Crescimento da Receita Líquida foi de 1122.07 milhões\n",
      "Crescimento de Custo foi de 932.32 milhões\n",
      "Relação do crescimento da empresa, com base na Receita Líquida e nos Custos foi de: 189.75 milhões\n",
      "\n",
      "No período 2018/2019, segue considerações: \n",
      "Crescimento da Receita Líquida foi de 335.37 milhões\n",
      "Crescimento de Custo foi de 296.34 milhões\n",
      "Relação do crescimento da empresa, com base na Receita Líquida e nos Custos foi de: 39.03 milhões\n"
     ]
    }
   ],
   "source": [
    "while anoinicio < anofinal:\n",
    "    if rl[0+contagem][0] == c[0+contagem][0]:\n",
    "        print (\"\\nNo período {}/{}, segue considerações: \".format(anoinicio, anoinicio+1))\n",
    "        crescimento_rl = round (rl[1+contagem][1] - rl[0+contagem][1], 2)\n",
    "        print (\"Crescimento da Receita Líquida foi de {} milhões\".format(crescimento_rl))\n",
    "        crescimento_c = round (c[1+contagem][1] - c[0+contagem][1], 2)\n",
    "        print (\"Crescimento de Custo foi de {} milhões\".format(crescimento_c))\n",
    "        coeficiente_crescimento = round (crescimento_rl - crescimento_c, 2)\n",
    "        print (\"Relação do crescimento da empresa, com base na Receita Líquida e nos Custos foi de: {} milhões\".format(coeficiente_crescimento))\n",
    "        cresc_ano.append (coeficiente_crescimento)\n",
    "        anoinicio += 1\n",
    "        contagem += 1\n",
    "    else:\n",
    "        print (\"erro\")\n",
    "        \n",
    "\n",
    "                                                                        \n",
    "        "
   ]
  },
  {
   "cell_type": "code",
   "execution_count": 9,
   "metadata": {},
   "outputs": [],
   "source": [
    "anoinicio = rl [0][0]\n",
    "cresc_ano1 = []\n",
    "contagem = 0"
   ]
  },
  {
   "cell_type": "code",
   "execution_count": 10,
   "metadata": {},
   "outputs": [
    {
     "name": "stdout",
     "output_type": "stream",
     "text": [
      "\n",
      "Crescimento do Lucro Líquido, respectivo ao período 2014/2015 foi de 1.467548481111983\n",
      "Crescimento da Dívida Bruta, respectivo ao período 2014/2015 foi de 0.17206192821956368\n",
      "Relação do crescimento da empresa, respectivo ao período 2014/2015 foi de 1.2954865528924193\n",
      "\n",
      "Crescimento do Lucro Líquido, respectivo ao período 2015/2016 foi de -1.82433107709081\n",
      "Crescimento da Dívida Bruta, respectivo ao período 2015/2016 foi de -0.24284599219453618\n",
      "Relação do crescimento da empresa, respectivo ao período 2015/2016 foi de -1.5814850848962738\n",
      "\n",
      "Crescimento do Lucro Líquido, respectivo ao período 2016/2017 foi de -1.8453653697784635\n",
      "Crescimento da Dívida Bruta, respectivo ao período 2016/2017 foi de -0.14273932627038\n",
      "Relação do crescimento da empresa, respectivo ao período 2016/2017 foi de -1.7026260435080836\n",
      "\n",
      "Crescimento do Lucro Líquido, respectivo ao período 2017/2018 foi de 0.7713168187744459\n",
      "Crescimento da Dívida Bruta, respectivo ao período 2017/2018 foi de -0.13236636325513695\n",
      "Relação do crescimento da empresa, respectivo ao período 2017/2018 foi de 0.9036831820295829\n",
      "\n",
      "Crescimento do Lucro Líquido, respectivo ao período 2018/2019 foi de 0.026534668040629983\n",
      "Crescimento da Dívida Bruta, respectivo ao período 2018/2019 foi de 0.05477212634691386\n",
      "Relação do crescimento da empresa, respectivo ao período 2018/2019 foi de -0.02823745830628388\n"
     ]
    }
   ],
   "source": [
    "while anoinicio < anofinal:\n",
    "    if ll[0+contagem][0] == db[0+contagem][0]:\n",
    "        crescimento_ll = ll[1+contagem][1] / ll[0+contagem][1]\n",
    "        crescimento_llpor100 = crescimento_ll - 1\n",
    "        print (\"\\nCrescimento do Lucro Líquido, respectivo ao período {}/{} foi de {}\".format(anoinicio, anoinicio+1, crescimento_llpor100))\n",
    "        crescimento_db = db[1+contagem][1] / db[0+contagem][1]\n",
    "        crescimento_dbpor100 = crescimento_db - 1\n",
    "        print (\"Crescimento da Dívida Bruta, respectivo ao período {}/{} foi de {}\".format(anoinicio, anoinicio+1, crescimento_dbpor100))\n",
    "        coeficiente_crescimentopor100 = crescimento_llpor100 - crescimento_dbpor100\n",
    "        print (\"Relação do crescimento da empresa, respectivo ao período {}/{} foi de {}\".format(anoinicio, anoinicio+1, coeficiente_crescimentopor100))\n",
    "        cresc_ano1.append (coeficiente_crescimentopor100)\n",
    "        anoinicio += 1\n",
    "        contagem += 1\n",
    "contagem = 0"
   ]
  },
  {
   "cell_type": "code",
   "execution_count": 11,
   "metadata": {},
   "outputs": [
    {
     "name": "stdout",
     "output_type": "stream",
     "text": [
      "83.29\n",
      "-185.34\n",
      "141.38\n",
      "189.75\n",
      "39.03\n"
     ]
    }
   ],
   "source": [
    "while contagem < len (cresc_ano):\n",
    "    print (cresc_ano [0+contagem])\n",
    "    contagem += 1\n",
    "contagem = 0"
   ]
  },
  {
   "cell_type": "code",
   "execution_count": 12,
   "metadata": {
    "scrolled": true
   },
   "outputs": [
    {
     "name": "stdout",
     "output_type": "stream",
     "text": [
      "1.2954865528924193\n",
      "-1.5814850848962738\n",
      "-1.7026260435080836\n",
      "0.9036831820295829\n",
      "-0.02823745830628388\n"
     ]
    }
   ],
   "source": [
    "while contagem < len (cresc_ano1):\n",
    "    print (cresc_ano1 [0+contagem])\n",
    "    contagem += 1"
   ]
  },
  {
   "cell_type": "code",
   "execution_count": null,
   "metadata": {},
   "outputs": [],
   "source": []
  }
 ],
 "metadata": {
  "kernelspec": {
   "display_name": "Python 3",
   "language": "python",
   "name": "python3"
  },
  "language_info": {
   "codemirror_mode": {
    "name": "ipython",
    "version": 3
   },
   "file_extension": ".py",
   "mimetype": "text/x-python",
   "name": "python",
   "nbconvert_exporter": "python",
   "pygments_lexer": "ipython3",
   "version": "3.7.3"
  }
 },
 "nbformat": 4,
 "nbformat_minor": 2
}
