{
 "cells": [
  {
   "cell_type": "code",
   "execution_count": 1,
   "metadata": {},
   "outputs": [],
   "source": [
    "def matriz (a):\n",
    "    for i in a:\n",
    "        for j in i:\n",
    "            print (f'{j:^16}', end=\"\")\n",
    "        print ()\n",
    "    "
   ]
  },
  {
   "cell_type": "code",
   "execution_count": 2,
   "metadata": {},
   "outputs": [
    {
     "name": "stdout",
     "output_type": "stream",
     "text": [
      "Inserir nome do ativo: embr3\n"
     ]
    }
   ],
   "source": [
    "nomedoativo = str(input(\"Inserir nome do ativo: \"))"
   ]
  },
  {
   "cell_type": "code",
   "execution_count": 3,
   "metadata": {},
   "outputs": [
    {
     "name": "stdout",
     "output_type": "stream",
     "text": [
      "Inserir ano da primeira análise (exemplo: 2014): 2014\n",
      "Inserir ano da última análise (exemplo: 2019): 2016\n"
     ]
    }
   ],
   "source": [
    "anoinicio = int(input(\"Inserir ano da primeira análise (exemplo: 2014): \"))\n",
    "anofinal = int(input(\"Inserir ano da última análise (exemplo: 2019): \"))\n",
    "ano = anoinicio\n",
    "table = [[\"Data\", \"Receita Líquida\", \"Custo\", \"Lucro Líquido\", \"Dívida Bruta\"]]\n",
    "rl = []\n",
    "c = []\n",
    "ll = []\n",
    "db = []"
   ]
  },
  {
   "cell_type": "code",
   "execution_count": null,
   "metadata": {},
   "outputs": [],
   "source": [
    "for i in range (anoinicio, anofinal + 1):\n",
    "    rl_valor = float(input(\"\\nInserir valor da Receita Líquida, no ano de {}, em milhões: \".format(ano)))\n",
    "    c_valor = float(input(\"Inserir valor dos Custos, no ano de {}, em milhões: \".format(ano)))\n",
    "    ll_valor = float(input(\"Inserir valor do Lucro Líquido, no ano de {}, em milhões: \".format(ano)))\n",
    "    db_valor = float(input(\"Inserir valor da Dívida Bruta, no ano de {}, em milhões: \".format(ano)))\n",
    "    table.append ([ano, rl_valor, c_valor, ll_valor, db_valor])\n",
    "    rl.append ([ano,rl_valor])\n",
    "    c.append ([ano,c_valor])\n",
    "    ll.append ([ano,ll_valor])\n",
    "    db.append ([ano,db_valor])\n",
    "    ano +=1\n"
   ]
  },
  {
   "cell_type": "code",
   "execution_count": null,
   "metadata": {},
   "outputs": [],
   "source": [
    "matriz(table)"
   ]
  },
  {
   "cell_type": "code",
   "execution_count": null,
   "metadata": {},
   "outputs": [],
   "source": [
    "tam = len(table[0][0]) + 2\n",
    "contagem = 0\n",
    "for r in range (len(table[0])):\n",
    "    tam = len(table[0][0+contagem]) + 2\n",
    "    print(\"~\" * tam, end=\" \" * tam)\n",
    "    contagem += 1"
   ]
  },
  {
   "cell_type": "code",
   "execution_count": null,
   "metadata": {},
   "outputs": [],
   "source": [
    "ano = anoinicio\n",
    "print (ano)"
   ]
  },
  {
   "cell_type": "code",
   "execution_count": null,
   "metadata": {},
   "outputs": [],
   "source": [
    "rl.sort(reverse=True)\n",
    "anofinal = rl [0][0]\n",
    "rl.sort()\n",
    "print (anoinicio)\n",
    "print (anofinal)"
   ]
  },
  {
   "cell_type": "code",
   "execution_count": null,
   "metadata": {},
   "outputs": [],
   "source": [
    "contagem = 0\n",
    "cresc_ano = []\n",
    "print (contagem)"
   ]
  },
  {
   "cell_type": "code",
   "execution_count": null,
   "metadata": {},
   "outputs": [],
   "source": [
    "print (\"\\nAnalisar o crescimento, ou não, da empresa de acordo com a relação entre Receita Líquida e Custos.\")\n",
    "print (\"\\nQuando o resultado der POSITIVO, quer dizer que a empresa obteve melhores resultados na relação entre Receita Líquida e Custos, seja: \")\n",
    "print (\"1. Aumentando mais a Receita Líquida do que os Custos;\")\n",
    "print (\"Ou até mesmo 2. A queda da Receita Líquida foi menor do que a dos Custos;\")\n",
    "print (\"E na melhor das hipóteses, 3. Aumento da Receita Líquida e queda dos Custos.\")\n",
    "print (\"\\nQuando NEGATIVO, quer dizer o contrário, então: \")\n",
    "print (\"1. Custos aumetaram mais do que a Receita Líquida;\")\n",
    "print (\"2. A queda da Receita Líquida foi maior que a dos Custos;\")\n",
    "print (\"No pior cenário, 3. Houve aumento dos Custos e diminuição da Receita Líquida.\")"
   ]
  },
  {
   "cell_type": "code",
   "execution_count": null,
   "metadata": {},
   "outputs": [],
   "source": [
    "while anoinicio < anofinal:\n",
    "    if rl[0+contagem][0] == c[0+contagem][0]:\n",
    "        print (\"\\nNo período {}/{}, segue considerações: \".format(anoinicio, anoinicio+1))\n",
    "        crescimento_rl = round (rl[1+contagem][1] - rl[0+contagem][1], 2)\n",
    "        print (\"Crescimento da Receita Líquida foi de {} milhões\".format(crescimento_rl))\n",
    "        crescimento_c = round (c[1+contagem][1] - c[0+contagem][1], 2)\n",
    "        print (\"Crescimento de Custo foi de {} milhões\".format(crescimento_c))\n",
    "        coeficiente_crescimento = round (crescimento_rl - crescimento_c, 2)\n",
    "        print (\"Relação do crescimento da empresa, com base na Receita Líquida e nos Custos foi de: {} milhões\".format(coeficiente_crescimento))\n",
    "        cresc_ano.append (coeficiente_crescimento)\n",
    "        anoinicio += 1\n",
    "        contagem += 1\n",
    "    else:\n",
    "        print (\"erro\")\n",
    "        \n",
    "\n",
    "                                                                        \n",
    "        "
   ]
  },
  {
   "cell_type": "code",
   "execution_count": null,
   "metadata": {},
   "outputs": [],
   "source": [
    "anoinicio = rl [0][0]\n",
    "cresc_ano1 = []\n",
    "contagem = 0"
   ]
  },
  {
   "cell_type": "code",
   "execution_count": null,
   "metadata": {},
   "outputs": [],
   "source": [
    "while anoinicio < anofinal:\n",
    "    if ll[0+contagem][0] == db[0+contagem][0]:\n",
    "        crescimento_ll = ll[1+contagem][1] / ll[0+contagem][1]\n",
    "        crescimento_llpor100 = crescimento_ll - 1\n",
    "        print (\"\\nCrescimento do Lucro Líquido, respectivo ao período {}/{} foi de {}\".format(anoinicio, anoinicio+1, crescimento_llpor100))\n",
    "        crescimento_db = db[1+contagem][1] / db[0+contagem][1]\n",
    "        crescimento_dbpor100 = crescimento_db - 1\n",
    "        print (\"Crescimento da Dívida Bruta, respectivo ao período {}/{} foi de {}\".format(anoinicio, anoinicio+1, crescimento_dbpor100))\n",
    "        coeficiente_crescimentopor100 = crescimento_llpor100 - crescimento_dbpor100\n",
    "        print (\"Relação do crescimento da empresa, respectivo ao período {}/{} foi de {}\".format(anoinicio, anoinicio+1, coeficiente_crescimentopor100))\n",
    "        cresc_ano1.append (coeficiente_crescimentopor100)\n",
    "        anoinicio += 1\n",
    "        contagem += 1\n",
    "contagem = 0"
   ]
  },
  {
   "cell_type": "code",
   "execution_count": null,
   "metadata": {},
   "outputs": [],
   "source": [
    "while contagem < len (cresc_ano):\n",
    "    print (cresc_ano [0+contagem])\n",
    "    contagem += 1\n",
    "contagem = 0"
   ]
  },
  {
   "cell_type": "code",
   "execution_count": null,
   "metadata": {
    "scrolled": true
   },
   "outputs": [],
   "source": [
    "while contagem < len (cresc_ano1):\n",
    "    print (cresc_ano1 [0+contagem])\n",
    "    contagem += 1"
   ]
  },
  {
   "cell_type": "code",
   "execution_count": null,
   "metadata": {},
   "outputs": [],
   "source": []
  },
  {
   "cell_type": "code",
   "execution_count": null,
   "metadata": {},
   "outputs": [],
   "source": [
    "for i in rl:\n",
    "    for j in i:\n",
    "        print (j, end=\"  \")\n",
    "    print ()"
   ]
  },
  {
   "cell_type": "code",
   "execution_count": null,
   "metadata": {},
   "outputs": [],
   "source": [
    "inicio = 1\n",
    "final = 3\n",
    "for i in range (inicio, final+1):\n",
    "    print (i)"
   ]
  },
  {
   "cell_type": "code",
   "execution_count": null,
   "metadata": {},
   "outputs": [],
   "source": [
    "print (rl)"
   ]
  },
  {
   "cell_type": "code",
   "execution_count": null,
   "metadata": {},
   "outputs": [],
   "source": []
  }
 ],
 "metadata": {
  "kernelspec": {
   "display_name": "Python 3",
   "language": "python",
   "name": "python3"
  },
  "language_info": {
   "codemirror_mode": {
    "name": "ipython",
    "version": 3
   },
   "file_extension": ".py",
   "mimetype": "text/x-python",
   "name": "python",
   "nbconvert_exporter": "python",
   "pygments_lexer": "ipython3",
   "version": "3.7.3"
  }
 },
 "nbformat": 4,
 "nbformat_minor": 2
}
